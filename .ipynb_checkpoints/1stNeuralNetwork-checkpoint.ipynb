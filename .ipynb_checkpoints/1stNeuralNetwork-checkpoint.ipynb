{
 "cells": [
  {
   "cell_type": "code",
   "execution_count": 1,
   "metadata": {},
   "outputs": [],
   "source": [
    "import pandas as pd"
   ]
  },
  {
   "cell_type": "code",
   "execution_count": 2,
   "metadata": {},
   "outputs": [],
   "source": [
    "import matplotlib as plt"
   ]
  },
  {
   "cell_type": "code",
   "execution_count": 3,
   "metadata": {},
   "outputs": [],
   "source": [
    "import sklearn as skl"
   ]
  },
  {
   "cell_type": "code",
   "execution_count": 4,
   "metadata": {},
   "outputs": [],
   "source": [
    "from sklearn.datasets import make_blobs\n"
   ]
  },
  {
   "cell_type": "code",
   "execution_count": 5,
   "metadata": {},
   "outputs": [],
   "source": [
    "import tensorflow as tf\n"
   ]
  },
  {
   "cell_type": "code",
   "execution_count": 6,
   "metadata": {},
   "outputs": [
    {
     "data": {
      "text/plain": [
       "<AxesSubplot:xlabel='Feature 1', ylabel='Feature 2'>"
      ]
     },
     "execution_count": 6,
     "metadata": {},
     "output_type": "execute_result"
    },
    {
     "data": {
      "image/png": "[encoded data removed]",
      "text/plain": [
       "<Figure size 432x288 with 2 Axes>"
      ]
     },
     "metadata": {
      "needs_background": "light"
     },
     "output_type": "display_data"
    }
   ],
   "source": [
    "# Generate dummy dataset\n",
    "X, y = make_blobs(n_samples=1000, centers=2, n_features=2, random_state=78)\n",
    "\n",
    "# Creating a DataFrame with the dummy data\n",
    "df = pd.DataFrame(X, columns=[\"Feature 1\", \"Feature 2\"])\n",
    "df[\"Target\"] = y\n",
    "\n",
    "# Plotting the dummy data\n",
    "df.plot.scatter(x=\"Feature 1\", y=\"Feature 2\", c=\"Target\", colormap=\"winter\")"
   ]
  },
  {
   "cell_type": "code",
   "execution_count": 7,
   "metadata": {},
   "outputs": [],
   "source": [
    "# Use sklearn to split dataset\n",
    "from sklearn.model_selection import train_test_split\n",
    "X_train, X_test, y_train, y_test = train_test_split(X, y, random_state=78)\n"
   ]
  },
  {
   "cell_type": "code",
   "execution_count": 8,
   "metadata": {},
   "outputs": [],
   "source": [
    "# Create scaler instance\n",
    "X_scaler = skl.preprocessing.StandardScaler()\n",
    "\n",
    "# Fit the scaler\n",
    "X_scaler.fit(X_train)\n",
    "\n",
    "# Scale the data\n",
    "X_train_scaled = X_scaler.transform(X_train)\n",
    "X_test_scaled = X_scaler.transform(X_test)"
   ]
  },
  {
   "cell_type": "code",
   "execution_count": 9,
   "metadata": {},
   "outputs": [],
   "source": [
    "# Create the Keras Sequential model\n",
    "nn_model = tf.keras.models.Sequential()"
   ]
  },
  {
   "cell_type": "code",
   "execution_count": 10,
   "metadata": {},
   "outputs": [],
   "source": [
    "# Add our first Dense layer, including the input layer\n",
    "nn_model.add(tf.keras.layers.Dense(units=1, activation=\"relu\", input_dim=2))"
   ]
  },
  {
   "cell_type": "code",
   "execution_count": 11,
   "metadata": {},
   "outputs": [],
   "source": [
    "# Add the output layer that uses a probability activation function\n",
    "nn_model.add(tf.keras.layers.Dense(units=1, activation=\"sigmoid\"))\n"
   ]
  },
  {
   "cell_type": "code",
   "execution_count": 12,
   "metadata": {},
   "outputs": [
    {
     "name": "stdout",
     "output_type": "stream",
     "text": [
      "Model: \"sequential\"\n",
      "_________________________________________________________________\n",
      "Layer (type)                 Output Shape              Param #   \n",
      "=================================================================\n",
      "dense (Dense)                (None, 1)                 3         \n",
      "_________________________________________________________________\n",
      "dense_1 (Dense)              (None, 1)                 2         \n",
      "=================================================================\n",
      "Total params: 5\n",
      "Trainable params: 5\n",
      "Non-trainable params: 0\n",
      "_________________________________________________________________\n"
     ]
    }
   ],
   "source": [
    "# Check the structure of the Sequential model\n",
    "nn_model.summary()"
   ]
  },
  {
   "cell_type": "code",
   "execution_count": 13,
   "metadata": {},
   "outputs": [],
   "source": [
    "# Compile the Sequential model together and customize metrics\n",
    "nn_model.compile(loss=\"binary_crossentropy\", optimizer=\"adam\", metrics=[\"accuracy\"])\n"
   ]
  },
  {
   "cell_type": "code",
   "execution_count": 14,
   "metadata": {},
   "outputs": [
    {
     "name": "stdout",
     "output_type": "stream",
     "text": [
      "Train on 750 samples\n",
      "Epoch 1/100\n",
      "750/750 [==============================] - 1s 921us/sample - loss: 1.0713 - accuracy: 0.0040\n",
      "Epoch 2/100\n",
      "750/750 [==============================] - 0s 36us/sample - loss: 1.0233 - accuracy: 0.0067\n",
      "Epoch 3/100\n",
      "750/750 [==============================] - 0s 37us/sample - loss: 0.9803 - accuracy: 0.0187\n",
      "Epoch 4/100\n",
      "750/750 [==============================] - 0s 37us/sample - loss: 0.9425 - accuracy: 0.0280\n",
      "Epoch 5/100\n",
      "750/750 [==============================] - 0s 35us/sample - loss: 0.9088 - accuracy: 0.0533\n",
      "Epoch 6/100\n",
      "750/750 [==============================] - 0s 43us/sample - loss: 0.8795 - accuracy: 0.0773\n",
      "Epoch 7/100\n",
      "750/750 [==============================] - 0s 35us/sample - loss: 0.8548 - accuracy: 0.1147\n",
      "Epoch 8/100\n",
      "750/750 [==============================] - 0s 38us/sample - loss: 0.8332 - accuracy: 0.1467\n",
      "Epoch 9/100\n",
      "750/750 [==============================] - 0s 38us/sample - loss: 0.8152 - accuracy: 0.1840\n",
      "Epoch 10/100\n",
      "750/750 [==============================] - 0s 37us/sample - loss: 0.7998 - accuracy: 0.2093\n",
      "Epoch 11/100\n",
      "750/750 [==============================] - 0s 37us/sample - loss: 0.7869 - accuracy: 0.2387\n",
      "Epoch 12/100\n",
      "750/750 [==============================] - 0s 38us/sample - loss: 0.7758 - accuracy: 0.2653\n",
      "Epoch 13/100\n",
      "750/750 [==============================] - 0s 37us/sample - loss: 0.7660 - accuracy: 0.2853\n",
      "Epoch 14/100\n",
      "750/750 [==============================] - 0s 38us/sample - loss: 0.7576 - accuracy: 0.3067\n",
      "Epoch 15/100\n",
      "750/750 [==============================] - 0s 36us/sample - loss: 0.7504 - accuracy: 0.3280\n",
      "Epoch 16/100\n",
      "750/750 [==============================] - 0s 36us/sample - loss: 0.7438 - accuracy: 0.3427\n",
      "Epoch 17/100\n",
      "750/750 [==============================] - 0s 36us/sample - loss: 0.7379 - accuracy: 0.3627\n",
      "Epoch 18/100\n",
      "750/750 [==============================] - 0s 37us/sample - loss: 0.7324 - accuracy: 0.3800\n",
      "Epoch 19/100\n",
      "750/750 [==============================] - 0s 36us/sample - loss: 0.7270 - accuracy: 0.3920\n",
      "Epoch 20/100\n",
      "750/750 [==============================] - 0s 35us/sample - loss: 0.7221 - accuracy: 0.4080\n",
      "Epoch 21/100\n",
      "750/750 [==============================] - 0s 37us/sample - loss: 0.7176 - accuracy: 0.4240\n",
      "Epoch 22/100\n",
      "750/750 [==============================] - 0s 35us/sample - loss: 0.7134 - accuracy: 0.4453\n",
      "Epoch 23/100\n",
      "750/750 [==============================] - 0s 37us/sample - loss: 0.7093 - accuracy: 0.4600\n",
      "Epoch 24/100\n",
      "750/750 [==============================] - 0s 36us/sample - loss: 0.7052 - accuracy: 0.4760\n",
      "Epoch 25/100\n",
      "750/750 [==============================] - 0s 36us/sample - loss: 0.7014 - accuracy: 0.4880\n",
      "Epoch 26/100\n",
      "750/750 [==============================] - 0s 37us/sample - loss: 0.6976 - accuracy: 0.5040\n",
      "Epoch 27/100\n",
      "750/750 [==============================] - 0s 36us/sample - loss: 0.6939 - accuracy: 0.5240\n",
      "Epoch 28/100\n",
      "750/750 [==============================] - 0s 35us/sample - loss: 0.6902 - accuracy: 0.5333\n",
      "Epoch 29/100\n",
      "750/750 [==============================] - 0s 36us/sample - loss: 0.6867 - accuracy: 0.5413\n",
      "Epoch 30/100\n",
      "750/750 [==============================] - 0s 38us/sample - loss: 0.6830 - accuracy: 0.5547\n",
      "Epoch 31/100\n",
      "750/750 [==============================] - 0s 36us/sample - loss: 0.6791 - accuracy: 0.5627\n",
      "Epoch 32/100\n",
      "750/750 [==============================] - 0s 37us/sample - loss: 0.6748 - accuracy: 0.5733\n",
      "Epoch 33/100\n",
      "750/750 [==============================] - 0s 40us/sample - loss: 0.6703 - accuracy: 0.5893\n",
      "Epoch 34/100\n",
      "750/750 [==============================] - 0s 40us/sample - loss: 0.6655 - accuracy: 0.6013\n",
      "Epoch 35/100\n",
      "750/750 [==============================] - 0s 39us/sample - loss: 0.6601 - accuracy: 0.6200\n",
      "Epoch 36/100\n",
      "750/750 [==============================] - 0s 38us/sample - loss: 0.6539 - accuracy: 0.6360\n",
      "Epoch 37/100\n",
      "750/750 [==============================] - 0s 40us/sample - loss: 0.6477 - accuracy: 0.6560\n",
      "Epoch 38/100\n",
      "750/750 [==============================] - 0s 36us/sample - loss: 0.6410 - accuracy: 0.6733\n",
      "Epoch 39/100\n",
      "750/750 [==============================] - 0s 36us/sample - loss: 0.6339 - accuracy: 0.6880\n",
      "Epoch 40/100\n",
      "750/750 [==============================] - 0s 38us/sample - loss: 0.6266 - accuracy: 0.6973\n",
      "Epoch 41/100\n",
      "750/750 [==============================] - 0s 38us/sample - loss: 0.6189 - accuracy: 0.7160\n",
      "Epoch 42/100\n",
      "750/750 [==============================] - 0s 37us/sample - loss: 0.6110 - accuracy: 0.7267\n",
      "Epoch 43/100\n",
      "750/750 [==============================] - 0s 38us/sample - loss: 0.6033 - accuracy: 0.7373\n",
      "Epoch 44/100\n",
      "750/750 [==============================] - 0s 38us/sample - loss: 0.5954 - accuracy: 0.7440\n",
      "Epoch 45/100\n",
      "750/750 [==============================] - 0s 39us/sample - loss: 0.5874 - accuracy: 0.7507\n",
      "Epoch 46/100\n",
      "750/750 [==============================] - 0s 37us/sample - loss: 0.5791 - accuracy: 0.7573\n",
      "Epoch 47/100\n",
      "750/750 [==============================] - 0s 38us/sample - loss: 0.5709 - accuracy: 0.7653\n",
      "Epoch 48/100\n",
      "750/750 [==============================] - 0s 39us/sample - loss: 0.5623 - accuracy: 0.7747\n",
      "Epoch 49/100\n",
      "750/750 [==============================] - 0s 41us/sample - loss: 0.5536 - accuracy: 0.7840\n",
      "Epoch 50/100\n",
      "750/750 [==============================] - 0s 44us/sample - loss: 0.5450 - accuracy: 0.7880\n",
      "Epoch 51/100\n",
      "750/750 [==============================] - 0s 42us/sample - loss: 0.5359 - accuracy: 0.8000\n",
      "Epoch 52/100\n",
      "750/750 [==============================] - 0s 40us/sample - loss: 0.5268 - accuracy: 0.8080\n",
      "Epoch 53/100\n",
      "750/750 [==============================] - 0s 39us/sample - loss: 0.5176 - accuracy: 0.8173\n",
      "Epoch 54/100\n",
      "750/750 [==============================] - 0s 37us/sample - loss: 0.5082 - accuracy: 0.8333\n",
      "Epoch 55/100\n",
      "750/750 [==============================] - 0s 36us/sample - loss: 0.4988 - accuracy: 0.8373\n",
      "Epoch 56/100\n",
      "750/750 [==============================] - 0s 36us/sample - loss: 0.4895 - accuracy: 0.8480\n",
      "Epoch 57/100\n",
      "750/750 [==============================] - 0s 36us/sample - loss: 0.4805 - accuracy: 0.8507\n",
      "Epoch 58/100\n",
      "750/750 [==============================] - 0s 37us/sample - loss: 0.4714 - accuracy: 0.8533\n",
      "Epoch 59/100\n",
      "750/750 [==============================] - 0s 38us/sample - loss: 0.4623 - accuracy: 0.8653\n",
      "Epoch 60/100\n",
      "750/750 [==============================] - 0s 35us/sample - loss: 0.4533 - accuracy: 0.8720\n",
      "Epoch 61/100\n",
      "750/750 [==============================] - 0s 37us/sample - loss: 0.4444 - accuracy: 0.8760\n",
      "Epoch 62/100\n",
      "750/750 [==============================] - 0s 38us/sample - loss: 0.4355 - accuracy: 0.8787\n",
      "Epoch 63/100\n",
      "750/750 [==============================] - 0s 34us/sample - loss: 0.4266 - accuracy: 0.8813\n",
      "Epoch 64/100\n",
      "750/750 [==============================] - 0s 38us/sample - loss: 0.4179 - accuracy: 0.8867\n",
      "Epoch 65/100\n",
      "750/750 [==============================] - 0s 37us/sample - loss: 0.4093 - accuracy: 0.8907\n",
      "Epoch 66/100\n",
      "750/750 [==============================] - 0s 35us/sample - loss: 0.4010 - accuracy: 0.8947\n",
      "Epoch 67/100\n",
      "750/750 [==============================] - 0s 36us/sample - loss: 0.3926 - accuracy: 0.8973\n",
      "Epoch 68/100\n",
      "750/750 [==============================] - 0s 36us/sample - loss: 0.3842 - accuracy: 0.9040\n",
      "Epoch 69/100\n",
      "750/750 [==============================] - 0s 35us/sample - loss: 0.3761 - accuracy: 0.9093\n",
      "Epoch 70/100\n",
      "750/750 [==============================] - 0s 37us/sample - loss: 0.3679 - accuracy: 0.9093\n",
      "Epoch 71/100\n",
      "750/750 [==============================] - 0s 37us/sample - loss: 0.3596 - accuracy: 0.9133\n",
      "Epoch 72/100\n",
      "750/750 [==============================] - 0s 35us/sample - loss: 0.3518 - accuracy: 0.9227\n",
      "Epoch 73/100\n",
      "750/750 [==============================] - 0s 36us/sample - loss: 0.3440 - accuracy: 0.9240\n",
      "Epoch 74/100\n",
      "750/750 [==============================] - 0s 35us/sample - loss: 0.3364 - accuracy: 0.9240\n",
      "Epoch 75/100\n",
      "750/750 [==============================] - 0s 36us/sample - loss: 0.3290 - accuracy: 0.9267\n",
      "Epoch 76/100\n",
      "750/750 [==============================] - 0s 35us/sample - loss: 0.3219 - accuracy: 0.9320\n",
      "Epoch 77/100\n",
      "750/750 [==============================] - 0s 35us/sample - loss: 0.3151 - accuracy: 0.9320\n",
      "Epoch 78/100\n"
     ]
    },
    {
     "name": "stdout",
     "output_type": "stream",
     "text": [
      "750/750 [==============================] - 0s 38us/sample - loss: 0.3082 - accuracy: 0.9320\n",
      "Epoch 79/100\n",
      "750/750 [==============================] - 0s 35us/sample - loss: 0.3016 - accuracy: 0.9333\n",
      "Epoch 80/100\n",
      "750/750 [==============================] - 0s 35us/sample - loss: 0.2950 - accuracy: 0.9373\n",
      "Epoch 81/100\n",
      "750/750 [==============================] - 0s 34us/sample - loss: 0.2885 - accuracy: 0.9467\n",
      "Epoch 82/100\n",
      "750/750 [==============================] - 0s 35us/sample - loss: 0.2819 - accuracy: 0.9480\n",
      "Epoch 83/100\n",
      "750/750 [==============================] - 0s 33us/sample - loss: 0.2757 - accuracy: 0.9480\n",
      "Epoch 84/100\n",
      "750/750 [==============================] - 0s 35us/sample - loss: 0.2693 - accuracy: 0.9507\n",
      "Epoch 85/100\n",
      "750/750 [==============================] - 0s 35us/sample - loss: 0.2630 - accuracy: 0.9547\n",
      "Epoch 86/100\n",
      "750/750 [==============================] - 0s 34us/sample - loss: 0.2568 - accuracy: 0.9547\n",
      "Epoch 87/100\n",
      "750/750 [==============================] - 0s 34us/sample - loss: 0.2506 - accuracy: 0.9560\n",
      "Epoch 88/100\n",
      "750/750 [==============================] - 0s 34us/sample - loss: 0.2446 - accuracy: 0.9560\n",
      "Epoch 89/100\n",
      "750/750 [==============================] - 0s 35us/sample - loss: 0.2386 - accuracy: 0.9587\n",
      "Epoch 90/100\n",
      "750/750 [==============================] - 0s 35us/sample - loss: 0.2327 - accuracy: 0.9600\n",
      "Epoch 91/100\n",
      "750/750 [==============================] - 0s 35us/sample - loss: 0.2270 - accuracy: 0.9627\n",
      "Epoch 92/100\n",
      "750/750 [==============================] - 0s 36us/sample - loss: 0.2215 - accuracy: 0.9627\n",
      "Epoch 93/100\n",
      "750/750 [==============================] - 0s 34us/sample - loss: 0.2161 - accuracy: 0.9627\n",
      "Epoch 94/100\n",
      "750/750 [==============================] - 0s 35us/sample - loss: 0.2109 - accuracy: 0.9653\n",
      "Epoch 95/100\n",
      "750/750 [==============================] - 0s 35us/sample - loss: 0.2058 - accuracy: 0.9680\n",
      "Epoch 96/100\n",
      "750/750 [==============================] - 0s 34us/sample - loss: 0.2008 - accuracy: 0.9680\n",
      "Epoch 97/100\n",
      "750/750 [==============================] - 0s 36us/sample - loss: 0.1961 - accuracy: 0.9707\n",
      "Epoch 98/100\n",
      "750/750 [==============================] - 0s 35us/sample - loss: 0.1915 - accuracy: 0.9733\n",
      "Epoch 99/100\n",
      "750/750 [==============================] - 0s 36us/sample - loss: 0.1871 - accuracy: 0.9773\n",
      "Epoch 100/100\n",
      "750/750 [==============================] - 0s 37us/sample - loss: 0.1828 - accuracy: 0.9773\n"
     ]
    }
   ],
   "source": [
    "# Fit the model to the training data\n",
    "fit_model = nn_model.fit(X_train_scaled, y_train, epochs=100)"
   ]
  },
  {
   "cell_type": "code",
   "execution_count": 15,
   "metadata": {},
   "outputs": [
    {
     "data": {
      "text/plain": [
       "<AxesSubplot:>"
      ]
     },
     "execution_count": 15,
     "metadata": {},
     "output_type": "execute_result"
    },
    {
     "data": {
      "image/png": "[encoded data removed]",
      "text/plain": [
       "<Figure size 432x288 with 1 Axes>"
      ]
     },
     "metadata": {
      "needs_background": "light"
     },
     "output_type": "display_data"
    }
   ],
   "source": [
    "# Create a DataFrame containing training history\n",
    "history_df = pd.DataFrame(fit_model.history, index=range(1,len(fit_model.history[\"loss\"])+1))\n",
    "\n",
    "# Plot the loss\n",
    "history_df.plot(y=\"loss\")"
   ]
  },
  {
   "cell_type": "code",
   "execution_count": 16,
   "metadata": {},
   "outputs": [
    {
     "data": {
      "text/plain": [
       "<AxesSubplot:>"
      ]
     },
     "execution_count": 16,
     "metadata": {},
     "output_type": "execute_result"
    },
    {
     "data": {
      "image/png": "[encoded data removed]",
      "text/plain": [
       "<Figure size 432x288 with 1 Axes>"
      ]
     },
     "metadata": {
      "needs_background": "light"
     },
     "output_type": "display_data"
    }
   ],
   "source": [
    "# Plot the accuracy\n",
    "history_df.plot(y=\"accuracy\")"
   ]
  },
  {
   "cell_type": "code",
   "execution_count": 17,
   "metadata": {},
   "outputs": [
    {
     "name": "stdout",
     "output_type": "stream",
     "text": [
      "250/1 - 0s - loss: 0.1657 - accuracy: 0.9880\n",
      "Loss: 0.1678147189617157, Accuracy: 0.9879999756813049\n"
     ]
    }
   ],
   "source": [
    "# Evaluate the model using the test data\n",
    "model_loss, model_accuracy = nn_model.evaluate(X_test_scaled,y_test,verbose=2)\n",
    "print(f\"Loss: {model_loss}, Accuracy: {model_accuracy}\")"
   ]
  },
  {
   "cell_type": "code",
   "execution_count": 18,
   "metadata": {},
   "outputs": [
    {
     "data": {
      "text/plain": [
       "array([[0],\n",
       "       [1],\n",
       "       [0],\n",
       "       [1],\n",
       "       [0],\n",
       "       [0],\n",
       "       [1],\n",
       "       [1],\n",
       "       [1],\n",
       "       [0]], dtype=int32)"
      ]
     },
     "execution_count": 18,
     "metadata": {},
     "output_type": "execute_result"
    }
   ],
   "source": [
    "# Predict the classification of a new set of blob data\n",
    "new_X, new_Y = make_blobs(n_samples=10, centers=2, n_features=2, random_state=78)\n",
    "new_X_scaled = X_scaler.transform(new_X)\n",
    "(nn_model.predict(new_X_scaled) > 0.5).astype(\"int32\")"
   ]
  },
  {
   "cell_type": "code",
   "execution_count": 19,
   "metadata": {},
   "outputs": [
    {
     "data": {
      "text/plain": [
       "<AxesSubplot:xlabel='Feature 1', ylabel='Feature 2'>"
      ]
     },
     "execution_count": 19,
     "metadata": {},
     "output_type": "execute_result"
    },
    {
     "data": {
      "image/png": "[encoded data removed]",
      "text/plain": [
       "<Figure size 432x288 with 2 Axes>"
      ]
     },
     "metadata": {
      "needs_background": "light"
     },
     "output_type": "display_data"
    }
   ],
   "source": [
    "from sklearn.datasets import make_moons\n",
    "\n",
    "# Creating dummy nonlinear data\n",
    "X_moons, y_moons = make_moons(n_samples=1000, noise=0.08, random_state=78)\n",
    "\n",
    "# Transforming y_moons to a vertical vector\n",
    "y_moons = y_moons.reshape(-1, 1)\n",
    "\n",
    "# Creating a DataFrame to plot the nonlinear dummy data\n",
    "df_moons = pd.DataFrame(X_moons, columns=[\"Feature 1\", \"Feature 2\"])\n",
    "df_moons[\"Target\"] = y_moons\n",
    "\n",
    "# Plot the nonlinear dummy data\n",
    "df_moons.plot.scatter(x=\"Feature 1\",y=\"Feature 2\", c=\"Target\",colormap=\"winter\")\n"
   ]
  },
  {
   "cell_type": "code",
   "execution_count": 20,
   "metadata": {},
   "outputs": [],
   "source": [
    "# Create training and testing sets\n",
    "X_moon_train, X_moon_test, y_moon_train, y_moon_test = train_test_split(\n",
    "    X_moons, y_moons, random_state=78\n",
    ")\n",
    "\n",
    "# Create the scaler instance\n",
    "X_moon_scaler = skl.preprocessing.StandardScaler()\n",
    "\n",
    "# Fit the scaler\n",
    "X_moon_scaler.fit(X_moon_train)\n",
    "\n",
    "# Scale the data\n",
    "X_moon_train_scaled = X_moon_scaler.transform(X_moon_train)\n",
    "X_moon_test_scaled = X_moon_scaler.transform(X_moon_test)"
   ]
  },
  {
   "cell_type": "code",
   "execution_count": 21,
   "metadata": {},
   "outputs": [
    {
     "name": "stdout",
     "output_type": "stream",
     "text": [
      "Train on 750 samples\n",
      "Epoch 1/100\n",
      "750/750 [==============================] - 0s 68us/sample - loss: 1.5236 - accuracy: 0.2947\n",
      "Epoch 2/100\n",
      "750/750 [==============================] - 0s 38us/sample - loss: 1.3276 - accuracy: 0.3053\n",
      "Epoch 3/100\n",
      "750/750 [==============================] - 0s 38us/sample - loss: 1.1844 - accuracy: 0.3293\n",
      "Epoch 4/100\n",
      "750/750 [==============================] - 0s 38us/sample - loss: 1.0864 - accuracy: 0.3520\n",
      "Epoch 5/100\n",
      "750/750 [==============================] - 0s 38us/sample - loss: 1.0117 - accuracy: 0.3653\n",
      "Epoch 6/100\n",
      "750/750 [==============================] - 0s 37us/sample - loss: 0.9553 - accuracy: 0.3920\n",
      "Epoch 7/100\n",
      "750/750 [==============================] - 0s 38us/sample - loss: 0.9111 - accuracy: 0.4107\n",
      "Epoch 8/100\n",
      "750/750 [==============================] - 0s 38us/sample - loss: 0.8737 - accuracy: 0.4320\n",
      "Epoch 9/100\n",
      "750/750 [==============================] - 0s 38us/sample - loss: 0.8429 - accuracy: 0.4493\n",
      "Epoch 10/100\n",
      "750/750 [==============================] - 0s 37us/sample - loss: 0.8165 - accuracy: 0.4680\n",
      "Epoch 11/100\n",
      "750/750 [==============================] - 0s 40us/sample - loss: 0.7939 - accuracy: 0.4893\n",
      "Epoch 12/100\n",
      "750/750 [==============================] - 0s 38us/sample - loss: 0.7733 - accuracy: 0.5160\n",
      "Epoch 13/100\n",
      "750/750 [==============================] - 0s 38us/sample - loss: 0.7552 - accuracy: 0.5360\n",
      "Epoch 14/100\n",
      "750/750 [==============================] - 0s 37us/sample - loss: 0.7391 - accuracy: 0.5493\n",
      "Epoch 15/100\n",
      "750/750 [==============================] - 0s 36us/sample - loss: 0.7235 - accuracy: 0.5627\n",
      "Epoch 16/100\n",
      "750/750 [==============================] - 0s 38us/sample - loss: 0.7094 - accuracy: 0.5800\n",
      "Epoch 17/100\n",
      "750/750 [==============================] - 0s 37us/sample - loss: 0.6963 - accuracy: 0.5880\n",
      "Epoch 18/100\n",
      "750/750 [==============================] - 0s 39us/sample - loss: 0.6844 - accuracy: 0.5973\n",
      "Epoch 19/100\n",
      "750/750 [==============================] - 0s 39us/sample - loss: 0.6736 - accuracy: 0.6120\n",
      "Epoch 20/100\n",
      "750/750 [==============================] - 0s 39us/sample - loss: 0.6633 - accuracy: 0.6213\n",
      "Epoch 21/100\n",
      "750/750 [==============================] - 0s 37us/sample - loss: 0.6537 - accuracy: 0.6387\n",
      "Epoch 22/100\n",
      "750/750 [==============================] - 0s 41us/sample - loss: 0.6445 - accuracy: 0.6493\n",
      "Epoch 23/100\n",
      "750/750 [==============================] - 0s 39us/sample - loss: 0.6359 - accuracy: 0.6547\n",
      "Epoch 24/100\n",
      "750/750 [==============================] - 0s 38us/sample - loss: 0.6277 - accuracy: 0.6587\n",
      "Epoch 25/100\n",
      "750/750 [==============================] - 0s 35us/sample - loss: 0.6202 - accuracy: 0.6667\n",
      "Epoch 26/100\n",
      "750/750 [==============================] - 0s 37us/sample - loss: 0.6133 - accuracy: 0.6707\n",
      "Epoch 27/100\n",
      "750/750 [==============================] - 0s 38us/sample - loss: 0.6069 - accuracy: 0.6733\n",
      "Epoch 28/100\n",
      "750/750 [==============================] - 0s 39us/sample - loss: 0.6009 - accuracy: 0.6800\n",
      "Epoch 29/100\n",
      "750/750 [==============================] - 0s 36us/sample - loss: 0.5952 - accuracy: 0.6800\n",
      "Epoch 30/100\n",
      "750/750 [==============================] - 0s 40us/sample - loss: 0.5900 - accuracy: 0.6787\n",
      "Epoch 31/100\n",
      "750/750 [==============================] - 0s 39us/sample - loss: 0.5850 - accuracy: 0.6827\n",
      "Epoch 32/100\n",
      "750/750 [==============================] - 0s 40us/sample - loss: 0.5803 - accuracy: 0.6880\n",
      "Epoch 33/100\n",
      "750/750 [==============================] - 0s 43us/sample - loss: 0.5759 - accuracy: 0.6880\n",
      "Epoch 34/100\n",
      "750/750 [==============================] - 0s 40us/sample - loss: 0.5716 - accuracy: 0.6907\n",
      "Epoch 35/100\n",
      "750/750 [==============================] - 0s 38us/sample - loss: 0.5675 - accuracy: 0.6960\n",
      "Epoch 36/100\n",
      "750/750 [==============================] - 0s 38us/sample - loss: 0.5634 - accuracy: 0.7013\n",
      "Epoch 37/100\n",
      "750/750 [==============================] - 0s 37us/sample - loss: 0.5594 - accuracy: 0.7027\n",
      "Epoch 38/100\n",
      "750/750 [==============================] - 0s 37us/sample - loss: 0.5555 - accuracy: 0.7040\n",
      "Epoch 39/100\n",
      "750/750 [==============================] - 0s 39us/sample - loss: 0.5518 - accuracy: 0.7040\n",
      "Epoch 40/100\n",
      "750/750 [==============================] - 0s 38us/sample - loss: 0.5483 - accuracy: 0.7120\n",
      "Epoch 41/100\n",
      "750/750 [==============================] - 0s 38us/sample - loss: 0.5448 - accuracy: 0.7120\n",
      "Epoch 42/100\n",
      "750/750 [==============================] - 0s 36us/sample - loss: 0.5413 - accuracy: 0.7120\n",
      "Epoch 43/100\n",
      "750/750 [==============================] - 0s 39us/sample - loss: 0.5377 - accuracy: 0.7160\n",
      "Epoch 44/100\n",
      "750/750 [==============================] - 0s 44us/sample - loss: 0.5341 - accuracy: 0.7133\n",
      "Epoch 45/100\n",
      "750/750 [==============================] - 0s 41us/sample - loss: 0.5304 - accuracy: 0.7147\n",
      "Epoch 46/100\n",
      "750/750 [==============================] - 0s 39us/sample - loss: 0.5267 - accuracy: 0.7187\n",
      "Epoch 47/100\n",
      "750/750 [==============================] - 0s 39us/sample - loss: 0.5231 - accuracy: 0.7200\n",
      "Epoch 48/100\n",
      "750/750 [==============================] - 0s 36us/sample - loss: 0.5198 - accuracy: 0.7213\n",
      "Epoch 49/100\n",
      "750/750 [==============================] - 0s 39us/sample - loss: 0.5164 - accuracy: 0.7213\n",
      "Epoch 50/100\n",
      "750/750 [==============================] - 0s 40us/sample - loss: 0.5133 - accuracy: 0.7267\n",
      "Epoch 51/100\n",
      "750/750 [==============================] - 0s 40us/sample - loss: 0.5100 - accuracy: 0.7307\n",
      "Epoch 52/100\n",
      "750/750 [==============================] - 0s 38us/sample - loss: 0.5072 - accuracy: 0.7333\n",
      "Epoch 53/100\n",
      "750/750 [==============================] - 0s 40us/sample - loss: 0.5042 - accuracy: 0.7347\n",
      "Epoch 54/100\n",
      "750/750 [==============================] - 0s 37us/sample - loss: 0.5012 - accuracy: 0.7373\n",
      "Epoch 55/100\n",
      "750/750 [==============================] - 0s 38us/sample - loss: 0.4981 - accuracy: 0.7427\n",
      "Epoch 56/100\n",
      "750/750 [==============================] - 0s 41us/sample - loss: 0.4951 - accuracy: 0.7493\n",
      "Epoch 57/100\n",
      "750/750 [==============================] - 0s 37us/sample - loss: 0.4921 - accuracy: 0.7533\n",
      "Epoch 58/100\n",
      "750/750 [==============================] - 0s 37us/sample - loss: 0.4891 - accuracy: 0.7573\n",
      "Epoch 59/100\n",
      "750/750 [==============================] - 0s 36us/sample - loss: 0.4861 - accuracy: 0.7587\n",
      "Epoch 60/100\n",
      "750/750 [==============================] - 0s 36us/sample - loss: 0.4832 - accuracy: 0.7627\n",
      "Epoch 61/100\n",
      "750/750 [==============================] - 0s 37us/sample - loss: 0.4804 - accuracy: 0.7627\n",
      "Epoch 62/100\n",
      "750/750 [==============================] - 0s 37us/sample - loss: 0.4776 - accuracy: 0.7693\n",
      "Epoch 63/100\n",
      "750/750 [==============================] - 0s 38us/sample - loss: 0.4746 - accuracy: 0.7693\n",
      "Epoch 64/100\n",
      "750/750 [==============================] - 0s 40us/sample - loss: 0.4719 - accuracy: 0.7733\n",
      "Epoch 65/100\n",
      "750/750 [==============================] - ETA: 0s - loss: 0.4963 - accuracy: 0.71 - 0s 38us/sample - loss: 0.4692 - accuracy: 0.7747\n",
      "Epoch 66/100\n",
      "750/750 [==============================] - 0s 39us/sample - loss: 0.4665 - accuracy: 0.7773\n",
      "Epoch 67/100\n",
      "750/750 [==============================] - 0s 38us/sample - loss: 0.4638 - accuracy: 0.7773\n",
      "Epoch 68/100\n",
      "750/750 [==============================] - 0s 36us/sample - loss: 0.4611 - accuracy: 0.7787\n",
      "Epoch 69/100\n",
      "750/750 [==============================] - 0s 36us/sample - loss: 0.4586 - accuracy: 0.7787\n",
      "Epoch 70/100\n",
      "750/750 [==============================] - 0s 38us/sample - loss: 0.4560 - accuracy: 0.7813\n",
      "Epoch 71/100\n",
      "750/750 [==============================] - 0s 36us/sample - loss: 0.4534 - accuracy: 0.7827\n",
      "Epoch 72/100\n",
      "750/750 [==============================] - 0s 38us/sample - loss: 0.4507 - accuracy: 0.7880\n",
      "Epoch 73/100\n",
      "750/750 [==============================] - 0s 38us/sample - loss: 0.4480 - accuracy: 0.7907\n",
      "Epoch 74/100\n",
      "750/750 [==============================] - 0s 39us/sample - loss: 0.4452 - accuracy: 0.7933\n",
      "Epoch 75/100\n",
      "750/750 [==============================] - 0s 38us/sample - loss: 0.4422 - accuracy: 0.7947\n",
      "Epoch 76/100\n",
      "750/750 [==============================] - 0s 38us/sample - loss: 0.4392 - accuracy: 0.7973\n",
      "Epoch 77/100\n",
      "750/750 [==============================] - 0s 40us/sample - loss: 0.4363 - accuracy: 0.8000\n",
      "Epoch 78/100\n"
     ]
    },
    {
     "name": "stdout",
     "output_type": "stream",
     "text": [
      "750/750 [==============================] - 0s 41us/sample - loss: 0.4337 - accuracy: 0.8027\n",
      "Epoch 79/100\n",
      "750/750 [==============================] - 0s 39us/sample - loss: 0.4307 - accuracy: 0.8027\n",
      "Epoch 80/100\n",
      "750/750 [==============================] - 0s 38us/sample - loss: 0.4281 - accuracy: 0.8027\n",
      "Epoch 81/100\n",
      "750/750 [==============================] - 0s 36us/sample - loss: 0.4254 - accuracy: 0.8027\n",
      "Epoch 82/100\n",
      "750/750 [==============================] - 0s 37us/sample - loss: 0.4228 - accuracy: 0.8053\n",
      "Epoch 83/100\n",
      "750/750 [==============================] - 0s 35us/sample - loss: 0.4202 - accuracy: 0.8093\n",
      "Epoch 84/100\n",
      "750/750 [==============================] - 0s 37us/sample - loss: 0.4177 - accuracy: 0.8133\n",
      "Epoch 85/100\n",
      "750/750 [==============================] - 0s 37us/sample - loss: 0.4152 - accuracy: 0.8133\n",
      "Epoch 86/100\n",
      "750/750 [==============================] - 0s 35us/sample - loss: 0.4126 - accuracy: 0.8147\n",
      "Epoch 87/100\n",
      "750/750 [==============================] - 0s 37us/sample - loss: 0.4103 - accuracy: 0.8160\n",
      "Epoch 88/100\n",
      "750/750 [==============================] - 0s 37us/sample - loss: 0.4080 - accuracy: 0.8160\n",
      "Epoch 89/100\n",
      "750/750 [==============================] - 0s 36us/sample - loss: 0.4057 - accuracy: 0.8173\n",
      "Epoch 90/100\n",
      "750/750 [==============================] - 0s 36us/sample - loss: 0.4035 - accuracy: 0.8173\n",
      "Epoch 91/100\n",
      "750/750 [==============================] - 0s 38us/sample - loss: 0.4013 - accuracy: 0.8187\n",
      "Epoch 92/100\n",
      "750/750 [==============================] - 0s 37us/sample - loss: 0.3991 - accuracy: 0.8213\n",
      "Epoch 93/100\n",
      "750/750 [==============================] - 0s 40us/sample - loss: 0.3969 - accuracy: 0.8213\n",
      "Epoch 94/100\n",
      "750/750 [==============================] - 0s 39us/sample - loss: 0.3948 - accuracy: 0.8240\n",
      "Epoch 95/100\n",
      "750/750 [==============================] - 0s 52us/sample - loss: 0.3926 - accuracy: 0.8240\n",
      "Epoch 96/100\n",
      "750/750 [==============================] - 0s 39us/sample - loss: 0.3904 - accuracy: 0.8280\n",
      "Epoch 97/100\n",
      "750/750 [==============================] - 0s 38us/sample - loss: 0.3882 - accuracy: 0.8333\n",
      "Epoch 98/100\n",
      "750/750 [==============================] - 0s 39us/sample - loss: 0.3859 - accuracy: 0.8347\n",
      "Epoch 99/100\n",
      "750/750 [==============================] - 0s 37us/sample - loss: 0.3838 - accuracy: 0.8347\n",
      "Epoch 100/100\n",
      "750/750 [==============================] - 0s 37us/sample - loss: 0.3817 - accuracy: 0.8387\n"
     ]
    }
   ],
   "source": [
    "# Training the model with the nonlinear data\n",
    "model_moon = nn_model.fit(X_moon_train_scaled, y_moon_train, epochs=100, shuffle=True)\n"
   ]
  },
  {
   "cell_type": "code",
   "execution_count": 22,
   "metadata": {},
   "outputs": [
    {
     "data": {
      "text/plain": [
       "<AxesSubplot:>"
      ]
     },
     "execution_count": 22,
     "metadata": {},
     "output_type": "execute_result"
    },
    {
     "data": {
      "image/png": "[encoded data removed]",
      "text/plain": [
       "<Figure size 432x288 with 1 Axes>"
      ]
     },
     "metadata": {
      "needs_background": "light"
     },
     "output_type": "display_data"
    }
   ],
   "source": [
    "# Create a DataFrame containing training history\n",
    "history_df = pd.DataFrame(model_moon.history, index=range(1,len(model_moon.history[\"loss\"])+1))\n",
    "\n",
    "# Plot the loss\n",
    "history_df.plot(y=\"loss\")"
   ]
  },
  {
   "cell_type": "code",
   "execution_count": 23,
   "metadata": {},
   "outputs": [
    {
     "data": {
      "text/plain": [
       "<AxesSubplot:>"
      ]
     },
     "execution_count": 23,
     "metadata": {},
     "output_type": "execute_result"
    },
    {
     "data": {
      "image/png": "[encoded data removed]",
      "text/plain": [
       "<Figure size 432x288 with 1 Axes>"
      ]
     },
     "metadata": {
      "needs_background": "light"
     },
     "output_type": "display_data"
    }
   ],
   "source": [
    "# Plot the loss\n",
    "history_df.plot(y=\"accuracy\")"
   ]
  },
  {
   "cell_type": "code",
   "execution_count": 24,
   "metadata": {},
   "outputs": [],
   "source": [
    "# Generate our new Sequential model\n",
    "new_model = tf.keras.models.Sequential()\n"
   ]
  },
  {
   "cell_type": "code",
   "execution_count": 25,
   "metadata": {},
   "outputs": [],
   "source": [
    "# Add the input and hidden layer\n",
    "number_inputs = 2\n",
    "number_hidden_nodes = 6\n",
    "\n",
    "new_model.add(tf.keras.layers.Dense(units=number_hidden_nodes, activation=\"relu\", input_dim=number_inputs))\n",
    "\n",
    "# Add the output layer that uses a probability activation function\n",
    "new_model.add(tf.keras.layers.Dense(units=1, activation=\"sigmoid\"))"
   ]
  },
  {
   "cell_type": "code",
   "execution_count": 26,
   "metadata": {},
   "outputs": [
    {
     "name": "stdout",
     "output_type": "stream",
     "text": [
      "Train on 750 samples\n",
      "Epoch 1/100\n",
      "750/750 [==============================] - 0s 611us/sample - loss: 0.8201 - accuracy: 0.3973\n",
      "Epoch 2/100\n",
      "750/750 [==============================] - 0s 35us/sample - loss: 0.7762 - accuracy: 0.5067\n",
      "Epoch 3/100\n",
      "750/750 [==============================] - 0s 37us/sample - loss: 0.7361 - accuracy: 0.5440\n",
      "Epoch 4/100\n",
      "750/750 [==============================] - 0s 35us/sample - loss: 0.7000 - accuracy: 0.5747\n",
      "Epoch 5/100\n",
      "750/750 [==============================] - 0s 38us/sample - loss: 0.6667 - accuracy: 0.6427\n",
      "Epoch 6/100\n",
      "750/750 [==============================] - 0s 37us/sample - loss: 0.6348 - accuracy: 0.7573\n",
      "Epoch 7/100\n",
      "750/750 [==============================] - 0s 37us/sample - loss: 0.6048 - accuracy: 0.8280\n",
      "Epoch 8/100\n",
      "750/750 [==============================] - 0s 36us/sample - loss: 0.5766 - accuracy: 0.8520\n",
      "Epoch 9/100\n",
      "750/750 [==============================] - 0s 38us/sample - loss: 0.5494 - accuracy: 0.8613\n",
      "Epoch 10/100\n",
      "750/750 [==============================] - 0s 38us/sample - loss: 0.5239 - accuracy: 0.8693\n",
      "Epoch 11/100\n",
      "750/750 [==============================] - 0s 47us/sample - loss: 0.4996 - accuracy: 0.8747\n",
      "Epoch 12/100\n",
      "750/750 [==============================] - 0s 36us/sample - loss: 0.4764 - accuracy: 0.8787\n",
      "Epoch 13/100\n",
      "750/750 [==============================] - 0s 36us/sample - loss: 0.4549 - accuracy: 0.8787\n",
      "Epoch 14/100\n",
      "750/750 [==============================] - 0s 39us/sample - loss: 0.4347 - accuracy: 0.8787\n",
      "Epoch 15/100\n",
      "750/750 [==============================] - 0s 38us/sample - loss: 0.4160 - accuracy: 0.8773\n",
      "Epoch 16/100\n",
      "750/750 [==============================] - 0s 37us/sample - loss: 0.3992 - accuracy: 0.8773\n",
      "Epoch 17/100\n",
      "750/750 [==============================] - 0s 38us/sample - loss: 0.3841 - accuracy: 0.8773\n",
      "Epoch 18/100\n",
      "750/750 [==============================] - 0s 38us/sample - loss: 0.3702 - accuracy: 0.8773\n",
      "Epoch 19/100\n",
      "750/750 [==============================] - 0s 38us/sample - loss: 0.3578 - accuracy: 0.8773\n",
      "Epoch 20/100\n",
      "750/750 [==============================] - 0s 38us/sample - loss: 0.3469 - accuracy: 0.8773\n",
      "Epoch 21/100\n",
      "750/750 [==============================] - 0s 38us/sample - loss: 0.3371 - accuracy: 0.8773\n",
      "Epoch 22/100\n",
      "750/750 [==============================] - 0s 38us/sample - loss: 0.3283 - accuracy: 0.8773\n",
      "Epoch 23/100\n",
      "750/750 [==============================] - 0s 38us/sample - loss: 0.3205 - accuracy: 0.8773\n",
      "Epoch 24/100\n",
      "750/750 [==============================] - 0s 37us/sample - loss: 0.3138 - accuracy: 0.8773\n",
      "Epoch 25/100\n",
      "750/750 [==============================] - 0s 38us/sample - loss: 0.3074 - accuracy: 0.8787\n",
      "Epoch 26/100\n",
      "750/750 [==============================] - 0s 42us/sample - loss: 0.3018 - accuracy: 0.8787\n",
      "Epoch 27/100\n",
      "750/750 [==============================] - 0s 40us/sample - loss: 0.2969 - accuracy: 0.8787\n",
      "Epoch 28/100\n",
      "750/750 [==============================] - 0s 37us/sample - loss: 0.2923 - accuracy: 0.8787\n",
      "Epoch 29/100\n",
      "750/750 [==============================] - 0s 38us/sample - loss: 0.2882 - accuracy: 0.8787\n",
      "Epoch 30/100\n",
      "750/750 [==============================] - 0s 38us/sample - loss: 0.2846 - accuracy: 0.8800\n",
      "Epoch 31/100\n",
      "750/750 [==============================] - 0s 38us/sample - loss: 0.2812 - accuracy: 0.8813\n",
      "Epoch 32/100\n",
      "750/750 [==============================] - 0s 37us/sample - loss: 0.2780 - accuracy: 0.8840\n",
      "Epoch 33/100\n",
      "750/750 [==============================] - 0s 38us/sample - loss: 0.2752 - accuracy: 0.8840\n",
      "Epoch 34/100\n",
      "750/750 [==============================] - 0s 38us/sample - loss: 0.2725 - accuracy: 0.8853\n",
      "Epoch 35/100\n",
      "750/750 [==============================] - 0s 40us/sample - loss: 0.2701 - accuracy: 0.8880\n",
      "Epoch 36/100\n",
      "750/750 [==============================] - 0s 37us/sample - loss: 0.2677 - accuracy: 0.8893\n",
      "Epoch 37/100\n",
      "750/750 [==============================] - 0s 37us/sample - loss: 0.2655 - accuracy: 0.8893\n",
      "Epoch 38/100\n",
      "750/750 [==============================] - 0s 38us/sample - loss: 0.2634 - accuracy: 0.8920\n",
      "Epoch 39/100\n",
      "750/750 [==============================] - 0s 37us/sample - loss: 0.2615 - accuracy: 0.8920\n",
      "Epoch 40/100\n",
      "750/750 [==============================] - 0s 36us/sample - loss: 0.2597 - accuracy: 0.8933\n",
      "Epoch 41/100\n",
      "750/750 [==============================] - 0s 39us/sample - loss: 0.2579 - accuracy: 0.8933\n",
      "Epoch 42/100\n",
      "750/750 [==============================] - 0s 42us/sample - loss: 0.2562 - accuracy: 0.8933\n",
      "Epoch 43/100\n",
      "750/750 [==============================] - 0s 36us/sample - loss: 0.2547 - accuracy: 0.8933\n",
      "Epoch 44/100\n",
      "750/750 [==============================] - 0s 39us/sample - loss: 0.2530 - accuracy: 0.8933\n",
      "Epoch 45/100\n",
      "750/750 [==============================] - 0s 39us/sample - loss: 0.2516 - accuracy: 0.8933\n",
      "Epoch 46/100\n",
      "750/750 [==============================] - 0s 39us/sample - loss: 0.2502 - accuracy: 0.8947\n",
      "Epoch 47/100\n",
      "750/750 [==============================] - 0s 36us/sample - loss: 0.2490 - accuracy: 0.8947\n",
      "Epoch 48/100\n",
      "750/750 [==============================] - 0s 39us/sample - loss: 0.2476 - accuracy: 0.8947\n",
      "Epoch 49/100\n",
      "750/750 [==============================] - 0s 40us/sample - loss: 0.2463 - accuracy: 0.8947\n",
      "Epoch 50/100\n",
      "750/750 [==============================] - 0s 39us/sample - loss: 0.2451 - accuracy: 0.8947\n",
      "Epoch 51/100\n",
      "750/750 [==============================] - 0s 39us/sample - loss: 0.2440 - accuracy: 0.8947\n",
      "Epoch 52/100\n",
      "750/750 [==============================] - 0s 39us/sample - loss: 0.2430 - accuracy: 0.8987\n",
      "Epoch 53/100\n",
      "750/750 [==============================] - 0s 41us/sample - loss: 0.2419 - accuracy: 0.8973\n",
      "Epoch 54/100\n",
      "750/750 [==============================] - 0s 38us/sample - loss: 0.2407 - accuracy: 0.8987\n",
      "Epoch 55/100\n",
      "750/750 [==============================] - 0s 40us/sample - loss: 0.2397 - accuracy: 0.8987\n",
      "Epoch 56/100\n",
      "750/750 [==============================] - 0s 40us/sample - loss: 0.2387 - accuracy: 0.8987\n",
      "Epoch 57/100\n",
      "750/750 [==============================] - 0s 38us/sample - loss: 0.2377 - accuracy: 0.8987\n",
      "Epoch 58/100\n",
      "750/750 [==============================] - 0s 37us/sample - loss: 0.2368 - accuracy: 0.9013\n",
      "Epoch 59/100\n",
      "750/750 [==============================] - 0s 36us/sample - loss: 0.2359 - accuracy: 0.9027\n",
      "Epoch 60/100\n",
      "750/750 [==============================] - 0s 36us/sample - loss: 0.2350 - accuracy: 0.9027\n",
      "Epoch 61/100\n",
      "750/750 [==============================] - 0s 36us/sample - loss: 0.2341 - accuracy: 0.9027\n",
      "Epoch 62/100\n",
      "750/750 [==============================] - 0s 36us/sample - loss: 0.2333 - accuracy: 0.9027\n",
      "Epoch 63/100\n",
      "750/750 [==============================] - 0s 35us/sample - loss: 0.2324 - accuracy: 0.9027\n",
      "Epoch 64/100\n",
      "750/750 [==============================] - 0s 36us/sample - loss: 0.2315 - accuracy: 0.9040\n",
      "Epoch 65/100\n",
      "750/750 [==============================] - 0s 36us/sample - loss: 0.2307 - accuracy: 0.9053\n",
      "Epoch 66/100\n",
      "750/750 [==============================] - 0s 39us/sample - loss: 0.2299 - accuracy: 0.9040\n",
      "Epoch 67/100\n",
      "750/750 [==============================] - 0s 37us/sample - loss: 0.2292 - accuracy: 0.9027\n",
      "Epoch 68/100\n",
      "750/750 [==============================] - 0s 36us/sample - loss: 0.2283 - accuracy: 0.9040\n",
      "Epoch 69/100\n",
      "750/750 [==============================] - 0s 37us/sample - loss: 0.2276 - accuracy: 0.9027\n",
      "Epoch 70/100\n",
      "750/750 [==============================] - 0s 37us/sample - loss: 0.2268 - accuracy: 0.9027\n",
      "Epoch 71/100\n",
      "750/750 [==============================] - 0s 37us/sample - loss: 0.2261 - accuracy: 0.9040\n",
      "Epoch 72/100\n",
      "750/750 [==============================] - 0s 41us/sample - loss: 0.2253 - accuracy: 0.9040\n",
      "Epoch 73/100\n",
      "750/750 [==============================] - 0s 37us/sample - loss: 0.2245 - accuracy: 0.9040\n",
      "Epoch 74/100\n",
      "750/750 [==============================] - 0s 36us/sample - loss: 0.2239 - accuracy: 0.9053\n",
      "Epoch 75/100\n",
      "750/750 [==============================] - 0s 38us/sample - loss: 0.2231 - accuracy: 0.9040\n",
      "Epoch 76/100\n",
      "750/750 [==============================] - 0s 35us/sample - loss: 0.2224 - accuracy: 0.9040\n",
      "Epoch 77/100\n",
      "750/750 [==============================] - 0s 37us/sample - loss: 0.2216 - accuracy: 0.9040\n",
      "Epoch 78/100\n"
     ]
    },
    {
     "name": "stdout",
     "output_type": "stream",
     "text": [
      "750/750 [==============================] - 0s 37us/sample - loss: 0.2209 - accuracy: 0.9040\n",
      "Epoch 79/100\n",
      "750/750 [==============================] - 0s 36us/sample - loss: 0.2201 - accuracy: 0.9040\n",
      "Epoch 80/100\n",
      "750/750 [==============================] - 0s 36us/sample - loss: 0.2194 - accuracy: 0.9040\n",
      "Epoch 81/100\n",
      "750/750 [==============================] - 0s 36us/sample - loss: 0.2187 - accuracy: 0.9040\n",
      "Epoch 82/100\n",
      "750/750 [==============================] - 0s 34us/sample - loss: 0.2180 - accuracy: 0.9040\n",
      "Epoch 83/100\n",
      "750/750 [==============================] - 0s 36us/sample - loss: 0.2172 - accuracy: 0.9040\n",
      "Epoch 84/100\n",
      "750/750 [==============================] - 0s 37us/sample - loss: 0.2165 - accuracy: 0.9053\n",
      "Epoch 85/100\n",
      "750/750 [==============================] - 0s 35us/sample - loss: 0.2158 - accuracy: 0.9053\n",
      "Epoch 86/100\n",
      "750/750 [==============================] - 0s 36us/sample - loss: 0.2150 - accuracy: 0.9053\n",
      "Epoch 87/100\n",
      "750/750 [==============================] - 0s 36us/sample - loss: 0.2143 - accuracy: 0.9053\n",
      "Epoch 88/100\n",
      "750/750 [==============================] - 0s 35us/sample - loss: 0.2135 - accuracy: 0.9053\n",
      "Epoch 89/100\n",
      "750/750 [==============================] - 0s 35us/sample - loss: 0.2128 - accuracy: 0.9053\n",
      "Epoch 90/100\n",
      "750/750 [==============================] - 0s 36us/sample - loss: 0.2121 - accuracy: 0.9067\n",
      "Epoch 91/100\n",
      "750/750 [==============================] - 0s 35us/sample - loss: 0.2113 - accuracy: 0.9067\n",
      "Epoch 92/100\n",
      "750/750 [==============================] - 0s 37us/sample - loss: 0.2105 - accuracy: 0.9067\n",
      "Epoch 93/100\n",
      "750/750 [==============================] - 0s 35us/sample - loss: 0.2098 - accuracy: 0.9067\n",
      "Epoch 94/100\n",
      "750/750 [==============================] - 0s 38us/sample - loss: 0.2089 - accuracy: 0.9080\n",
      "Epoch 95/100\n",
      "750/750 [==============================] - 0s 37us/sample - loss: 0.2081 - accuracy: 0.9080\n",
      "Epoch 96/100\n",
      "750/750 [==============================] - 0s 35us/sample - loss: 0.2073 - accuracy: 0.9093\n",
      "Epoch 97/100\n",
      "750/750 [==============================] - 0s 36us/sample - loss: 0.2064 - accuracy: 0.9080\n",
      "Epoch 98/100\n",
      "750/750 [==============================] - 0s 36us/sample - loss: 0.2055 - accuracy: 0.9093\n",
      "Epoch 99/100\n",
      "750/750 [==============================] - 0s 34us/sample - loss: 0.2047 - accuracy: 0.9093\n",
      "Epoch 100/100\n",
      "750/750 [==============================] - 0s 35us/sample - loss: 0.2037 - accuracy: 0.9093\n"
     ]
    }
   ],
   "source": [
    "# Compile the Sequential model together and customize metrics\n",
    "new_model.compile(loss=\"binary_crossentropy\", optimizer=\"adam\", metrics=[\"accuracy\"])\n",
    "\n",
    "# Fit the model to the training data\n",
    "new_fit_model = new_model.fit(X_moon_train_scaled, y_moon_train, epochs=100, shuffle=True)"
   ]
  },
  {
   "cell_type": "code",
   "execution_count": null,
   "metadata": {},
   "outputs": [],
   "source": []
  }
 ],
 "metadata": {
  "kernelspec": {
   "display_name": "mlenv",
   "language": "python",
   "name": "mlenv"
  },
  "language_info": {
   "codemirror_mode": {
    "name": "ipython",
    "version": 3
   },
   "file_extension": ".py",
   "mimetype": "text/x-python",
   "name": "python",
   "nbconvert_exporter": "python",
   "pygments_lexer": "ipython3",
   "version": "3.7.9"
  }
 },
 "nbformat": 4,
 "nbformat_minor": 4
}
